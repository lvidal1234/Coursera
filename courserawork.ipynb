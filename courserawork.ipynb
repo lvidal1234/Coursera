{
 "cells": [
  {
   "cell_type": "markdown",
   "metadata": {},
   "source": [
    "<center>\n",
    "    <img src=\"https://cf-courses-data.s3.us.cloud-object-storage.appdomain.cloud/IBMDeveloperSkillsNetwork-DS0105EN-SkillsNetwork/labs/Module2/images/SN_web_lightmode.png\" width=\"300\" alt=\"cognitiveclass.ai logo\">\n",
    "</center>\n"
   ]
  },
  {
   "cell_type": "markdown",
   "metadata": {},
   "source": [
    "#### Add your code below following the instructions given in the course\n"
   ]
  },
  {
   "cell_type": "markdown",
   "metadata": {},
   "source": [
    "## THIS IS MY FIRST JUPYTER NOTEBOOK"
   ]
  },
  {
   "cell_type": "markdown",
   "metadata": {
    "tags": []
   },
   "source": [
    "This is my first Jupyter Notebook for the Coursera course, where im goint to show yo what i have learn trough this few weeks."
   ]
  },
  {
   "cell_type": "markdown",
   "metadata": {},
   "source": [
    "The languages for data science are:\n",
    "Python, R, SQL, JAVA, SCALA, C++, Javascript, Julia"
   ]
  },
  {
   "cell_type": "markdown",
   "metadata": {
    "tags": []
   },
   "source": [
    "The libraries for data science are:Python, Pandas, Numpy, Matplotlib, Seaborn, Scikit-Learn, Keras, Tensorflow, Pytorch, Apache Spark, Spark, R"
   ]
  },
  {
   "cell_type": "markdown",
   "metadata": {},
   "source": [
    "| Data tools for Data science           |      Details                             |\n",
    "|---------------------------------------|:----------------------------------------:|\n",
    "| Mysql and PostgreSQL                  |  Open code, RDBMS                        |\n",
    "| IBM DB2 and SQL Server                |  Comercial RDBMS                         |\n",
    "| MongoDB and Apache Cassandra          | NoSQL                                    |\n",
    "| Apache Hadoop and Apache Spark        | Big Data Analysis                        |\n",
    "| Apache Airflow and AP Kafka           | Integration and transformation data tools|\n",
    "| Cognos Analytics, Tableau and PowerBI | Visualization                            |\n",
    "| GIT                                   | Code asset management tools              |\n",
    "| Jupyter Notebook and Rstudio          | development environments                 |"
   ]
  },
  {
   "cell_type": "markdown",
   "metadata": {},
   "source": [
    "|examples of arithmetic expressions:|\n",
    "--------------------------------------\n",
    "|x = 1 + 45 * 2|\n",
    "|y = x * 2|\n",
    "|z = x + y|\n",
    "|w = x/y|\n",
    "|v = 34 + x|\n",
    "|a = 50 - y|\n"
   ]
  },
  {
   "cell_type": "code",
   "execution_count": 12,
   "metadata": {
    "tags": []
   },
   "outputs": [
    {
     "name": "stdout",
     "output_type": "stream",
     "text": [
      "Sum: 8\n",
      "multiplication: 5\n"
     ]
    }
   ],
   "source": [
    "\n",
    "sum = 5 + 3\n",
    "print(\"Sum:\", sum)\n",
    "\n",
    "\n",
    "multiplication = 7 - 2\n",
    "print(\"multiplication:\", multiplication)"
   ]
  },
  {
   "cell_type": "code",
   "execution_count": 14,
   "metadata": {
    "tags": []
   },
   "outputs": [
    {
     "name": "stdout",
     "output_type": "stream",
     "text": [
      "convert 45 minutes to hours: 0.75 hours\n"
     ]
    }
   ],
   "source": [
    "minutes = 45\n",
    "Hours = 45/60\n",
    "print(\"convert 45 minutes to hours:\", Hours,\"hours\")"
   ]
  },
  {
   "cell_type": "markdown",
   "metadata": {
    "tags": []
   },
   "source": [
    "# Objectives\n",
    "\n",
    "After completing this, i will be able to:\n",
    "*   Use of Jupyter notebook and work with multiple notebooks\n",
    "*   Know the language for data sciense\n",
    "*   Know the libraries for the daily use\n",
    "*   Save and download the notebook\n",
    "*   Upload the downloaded notebook \n",
    "\n"
   ]
  },
  {
   "cell_type": "markdown",
   "metadata": {},
   "source": [
    "\n",
    "\n",
    "## Author\n",
    "\n",
    "Lina Vidal\n",
    "\n",
    "## Change Log\n",
    "\n",
    "| Date (YYYY-MM-DD) | Version | Changed By | Change Description                 |\n",
    "| ----------------- | ------- | ---------- | ---------------------------------- |\n",
    "| 2024-08-13        | 0.1     | Lina Vidal     | Created Initial version    |\n",
    "\n",
    "\n"
   ]
  }
 ],
 "metadata": {
  "kernelspec": {
   "display_name": "Python",
   "language": "python",
   "name": "conda-env-python-py"
  },
  "language_info": {
   "codemirror_mode": {
    "name": "ipython",
    "version": 3
   },
   "file_extension": ".py",
   "mimetype": "text/x-python",
   "name": "python",
   "nbconvert_exporter": "python",
   "pygments_lexer": "ipython3",
   "version": "3.7.12"
  }
 },
 "nbformat": 4,
 "nbformat_minor": 4
}
